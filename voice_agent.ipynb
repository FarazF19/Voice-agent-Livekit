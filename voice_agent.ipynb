{
 "cells": [
  {
   "cell_type": "markdown",
   "id": "136830a3",
   "metadata": {},
   "source": [
    "#  Import LiveKit Agent Modules and Plugins"
   ]
  },
  {
   "cell_type": "code",
   "execution_count": null,
   "id": "925d9d6f",
   "metadata": {},
   "outputs": [],
   "source": [
    "import logging\n",
    "\n",
    "from dotenv import load_dotenv\n",
    "_ = load_dotenv(override=True)\n",
    "\n",
    "logger = logging.getLogger(\"dlai-agent\")\n",
    "logger.setLevel(logging.INFO)\n",
    "\n",
    "from livekit import agents\n",
    "from livekit.agents import Agent, AgentSession, JobContext, WorkerOptions, jupyter\n",
    "from livekit.plugins import (\n",
    "    openai,\n",
    "    elevenlabs,\n",
    "    silero,\n",
    ")\n",
    "\n",
    "from livekit.agents.metrics import LLMMetrics, STTMetrics, TTSMetrics, EOUMetrics\n",
    "import asyncio"
   ]
  },
  {
   "cell_type": "code",
   "execution_count": null,
   "id": "73bfc40e",
   "metadata": {},
   "outputs": [],
   "source": [
    "class MetricsAgent(Agent):\n",
    "    def __init__(self) -> None:\n",
    "       #llm = openai.LLM(model=\"gpt-4o\")\n",
    "        llm = openai.LLM(model=\"gpt-4o-mini\")   # Example with lower latency\n",
    "        stt = openai.STT(model=\"whisper-1\")\n",
    "        tts = elevenlabs.TTS()\n",
    "        silero_vad = silero.VAD.load()\n",
    "        \n",
    "        super().__init__(\n",
    "            instructions=\"You are a helpful assistant communicating via voice\",\n",
    "            stt=stt,\n",
    "            llm=llm,\n",
    "            tts=tts,\n",
    "            vad=silero_vad,\n",
    "        )\n",
    "\n",
    "        def llm_metrics_wrapper(metrics: LLMMetrics):\n",
    "            asyncio.create_task(self.on_llm_metrics_collected(metrics))\n",
    "        llm.on(\"metrics_collected\", llm_metrics_wrapper)\n",
    "\n",
    "        def stt_metrics_wrapper(metrics: STTMetrics):\n",
    "            asyncio.create_task(self.on_stt_metrics_collected(metrics))\n",
    "        stt.on(\"metrics_collected\", stt_metrics_wrapper)\n",
    "\n",
    "        def eou_metrics_wrapper(metrics: EOUMetrics):\n",
    "            asyncio.create_task(self.on_eou_metrics_collected(metrics))\n",
    "        stt.on(\"eou_metrics_collected\", eou_metrics_wrapper)\n",
    "\n",
    "        def tts_metrics_wrapper(metrics: TTSMetrics):\n",
    "            asyncio.create_task(self.on_tts_metrics_collected(metrics))\n",
    "        tts.on(\"metrics_collected\", tts_metrics_wrapper)\n",
    "\n",
    "    async def on_llm_metrics_collected(self, metrics: LLMMetrics) -> None:\n",
    "        print(\"\\n--- LLM Metrics ---\")\n",
    "        print(f\"Prompt Tokens: {metrics.prompt_tokens}\")\n",
    "        print(f\"Completion Tokens: {metrics.completion_tokens}\")\n",
    "        print(f\"Tokens per second: {metrics.tokens_per_second:.4f}\")\n",
    "        print(f\"TTFT: {metrics.ttft:.4f}s\")\n",
    "        print(\"------------------\\n\")\n",
    "\n",
    "    async def on_stt_metrics_collected(self, metrics: STTMetrics) -> None:\n",
    "        print(\"\\n--- STT Metrics ---\")\n",
    "        print(f\"Duration: {metrics.duration:.4f}s\")\n",
    "        print(f\"Audio Duration: {metrics.audio_duration:.4f}s\")\n",
    "        print(f\"Streamed: {'Yes' if metrics.streamed else 'No'}\")\n",
    "        print(\"------------------\\n\")\n",
    "\n",
    "    async def on_eou_metrics_collected(self, metrics: EOUMetrics) -> None:\n",
    "        print(\"\\n--- End of Utterance Metrics ---\")\n",
    "        print(f\"End of Utterance Delay: {metrics.end_of_utterance_delay:.4f}s\")\n",
    "        print(f\"Transcription Delay: {metrics.transcription_delay:.4f}s\")\n",
    "        print(\"--------------------------------\\n\")\n",
    "\n",
    "    async def on_tts_metrics_collected(self, metrics: TTSMetrics) -> None:\n",
    "        print(\"\\n--- TTS Metrics ---\")\n",
    "        print(f\"TTFB: {metrics.ttfb:.4f}s\")\n",
    "        print(f\"Duration: {metrics.duration:.4f}s\")\n",
    "        print(f\"Audio Duration: {metrics.audio_duration:.4f}s\")\n",
    "        print(f\"Streamed: {'Yes' if metrics.streamed else 'No'}\")\n",
    "        print(\"------------------\\n\")\n",
    "\n",
    "\n"
   ]
  },
  {
   "cell_type": "code",
   "execution_count": null,
   "metadata": {},
   "outputs": [],
   "source": []
  },
  {
   "cell_type": "code",
   "execution_count": null,
   "id": "804f33c4",
   "metadata": {},
   "outputs": [],
   "source": []
  },
  {
   "cell_type": "code",
   "execution_count": null,
   "id": "37579058",
   "metadata": {},
   "outputs": [],
   "source": []
  },
  {
   "cell_type": "code",
   "execution_count": null,
   "id": "7388b4c1",
   "metadata": {},
   "outputs": [],
   "source": []
  },
  {
   "cell_type": "code",
   "execution_count": null,
   "id": "dfc3b205",
   "metadata": {},
   "outputs": [],
   "source": []
  },
  {
   "cell_type": "code",
   "execution_count": null,
   "id": "47e6237c",
   "metadata": {},
   "outputs": [],
   "source": []
  }
 ],
 "metadata": {
  "kernelspec": {
   "display_name": "venv",
   "language": "python",
   "name": "python3"
  },
  "language_info": {
   "codemirror_mode": {
    "name": "ipython",
    "version": 3
   },
   "file_extension": ".py",
   "mimetype": "text/x-python",
   "name": "python",
   "nbconvert_exporter": "python",
   "pygments_lexer": "ipython3",
   "version": "3.11.0"
  }
 },
 "nbformat": 4,
 "nbformat_minor": 5
}
